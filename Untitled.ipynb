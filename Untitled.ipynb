{
 "cells": [
  {
   "cell_type": "code",
   "execution_count": 1,
   "metadata": {},
   "outputs": [
    {
     "ename": "ImportError",
     "evalue": "cannot import name 'LineBotApi'",
     "output_type": "error",
     "traceback": [
      "\u001b[1;31m---------------------------------------------------------------------------\u001b[0m",
      "\u001b[1;31mImportError\u001b[0m                               Traceback (most recent call last)",
      "\u001b[1;32m<ipython-input-1-4d5c28ffd725>\u001b[0m in \u001b[0;36m<module>\u001b[1;34m()\u001b[0m\n\u001b[0;32m      1\u001b[0m \u001b[1;32mfrom\u001b[0m \u001b[0mflask\u001b[0m \u001b[1;32mimport\u001b[0m \u001b[0mFlask\u001b[0m\u001b[1;33m,\u001b[0m \u001b[0mrequest\u001b[0m\u001b[1;33m,\u001b[0m \u001b[0mabort\u001b[0m\u001b[1;33m\u001b[0m\u001b[0m\n\u001b[0;32m      2\u001b[0m \u001b[1;33m\u001b[0m\u001b[0m\n\u001b[1;32m----> 3\u001b[1;33m from linebot import (\n\u001b[0m\u001b[0;32m      4\u001b[0m         \u001b[0mLineBotApi\u001b[0m\u001b[1;33m,\u001b[0m \u001b[0mWebhookHandler\u001b[0m\u001b[1;33m\u001b[0m\u001b[0m\n\u001b[0;32m      5\u001b[0m )\n",
      "\u001b[1;31mImportError\u001b[0m: cannot import name 'LineBotApi'"
     ]
    }
   ],
   "source": [
    "from flask import Flask, request, abort\n",
    "\n",
    "from linebot import (\n",
    "\tLineBotApi, WebhookHandler\n",
    ")\n",
    "from linebot.exceptions import (\n",
    "\tInvalidSignatureError\n",
    ")\n",
    "from linebot.models import (\n",
    "\tMessageEvent, TextMessage, TextSendMessage,\n",
    ")\n",
    "\n",
    "app = Flask(__name__)\n",
    "\n",
    "line_bot_api = LineBotApi('JXJh+DghvpLrJCg7DIEy+1c5LmspsNuHcyNkOhpdcwMMEte/9TYjVWL2kMy++Q4GrlsRHvw/sYQhWqcBD9chh3jBv+lJKlREHasNf+c2wxWh4wOwZRwafbTunG4M0BWgVMWFNaz1o9IqKBS/euk+tQdB04t89/1O/w1cDnyilFU=')\n",
    "handler = WebhookHandler('02a3f2b8daaa79b47d2319e04d4e5d3f')\n",
    "\n",
    "@app.route(\"/callback\", methods=['POST'])\n",
    "def callback():\n",
    "\tsignature = request.headers['X-Line-Signature']\n",
    "\tbody = request.get_data(as_text=True)\n",
    "\tapp.logger.info(\"Request body: \" + body)\n",
    "\ttry:\n",
    "\t\thandler.handle(body, signature)\n",
    "\texcept InvalidSignatureError:\n",
    "\t\tabort(400)\n",
    "\treturn 'OK'\n",
    "\n",
    "@handler.add(MessageEvent, message=TextMessage)\n",
    "def handle_message(event):\n",
    "\tline_bot_api.reply_message(\n",
    "\t\tevent.reply_token,\n",
    "\t\tTextSendMessage(text=event.message.text))\n",
    "if __name__ == \"__main__\":\n",
    "\tapp.run()\n"
   ]
  },
  {
   "cell_type": "code",
   "execution_count": null,
   "metadata": {},
   "outputs": [],
   "source": []
  }
 ],
 "metadata": {
  "kernelspec": {
   "display_name": "Python 3",
   "language": "python",
   "name": "python3"
  },
  "language_info": {
   "codemirror_mode": {
    "name": "ipython",
    "version": 3
   },
   "file_extension": ".py",
   "mimetype": "text/x-python",
   "name": "python",
   "nbconvert_exporter": "python",
   "pygments_lexer": "ipython3",
   "version": "3.6.4"
  }
 },
 "nbformat": 4,
 "nbformat_minor": 2
}
